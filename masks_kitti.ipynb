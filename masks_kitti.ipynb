{
 "cells": [
  {
   "cell_type": "code",
   "execution_count": null,
   "metadata": {
    "collapsed": true
   },
   "outputs": [],
   "source": [
    "# https://gist.github.com/DrSleep/4bce37254c5900545e6b65f6a0858b9c\n",
    "import tensorflow as tf\n",
    "from PIL import Image"
   ]
  },
  {
   "cell_type": "code",
   "execution_count": null,
   "metadata": {
    "collapsed": true
   },
   "outputs": [],
   "source": [
    "from tqdm import tqdm"
   ]
  },
  {
   "cell_type": "code",
   "execution_count": null,
   "metadata": {
    "collapsed": true
   },
   "outputs": [],
   "source": [
    "import numpy as np"
   ]
  },
  {
   "cell_type": "code",
   "execution_count": null,
   "metadata": {
    "collapsed": true
   },
   "outputs": [],
   "source": [
    "arr = Image.open('rwth_kitti_semantics_dataset/labels/06_000800.png')"
   ]
  },
  {
   "cell_type": "code",
   "execution_count": null,
   "metadata": {
    "collapsed": true
   },
   "outputs": [],
   "source": [
    "arr"
   ]
  },
  {
   "cell_type": "code",
   "execution_count": null,
   "metadata": {
    "collapsed": true
   },
   "outputs": [],
   "source": [
    "np.array(arr).shape"
   ]
  },
  {
   "cell_type": "code",
   "execution_count": null,
   "metadata": {
    "collapsed": true
   },
   "outputs": [],
   "source": [
    "arr = np.array(arr)\n",
    "dt = np.dtype(['a', arr.dtype), ('b', arr.dtype), ('c', arr.dtype)])\n",
    "y = arr.view(dtype=dt).squeeze()"
   ]
  },
  {
   "cell_type": "code",
   "execution_count": null,
   "metadata": {
    "collapsed": true
   },
   "outputs": [],
   "source": [
    "np.unique(y)"
   ]
  },
  {
   "cell_type": "code",
   "execution_count": null,
   "metadata": {
    "collapsed": true
   },
   "outputs": [],
   "source": [
    "## convert labels from RGB"
   ]
  },
  {
   "cell_type": "code",
   "execution_count": null,
   "metadata": {
    "collapsed": true
   },
   "outputs": [],
   "source": [
    "## adapted from https://github.com/martinkersner/train-DeepLab/blob/master/utils.py\n",
    "palette = {(0,   0,   0) : 0 ,\n",
    "         (0,  0, 255) : 1 ,\n",
    "         (255,  0,  0) : 2,\n",
    "           (255,255,  0) : 3,\n",
    "           (  0,255,  0) : 4,\n",
    "           (255,  0,255) : 5,\n",
    "           (  0,255,255) : 6,\n",
    "           (255,  0,153) : 7,\n",
    "           (153,  0,255) : 8,\n",
    "           (  0,153,255) : 9,\n",
    "           (153,255,  0) : 10,\n",
    "           (255,153,  0) : 11,\n",
    "           (  0,255,153) : 12,\n",
    "           (  0,153,153) : 13\n",
    "          }"
   ]
  },
  {
   "cell_type": "code",
   "execution_count": null,
   "metadata": {
    "collapsed": true
   },
   "outputs": [],
   "source": [
    "def convert_from_color_segmentation(arr_3d):\n",
    "    arr_2d = np.zeros((arr_3d.shape[0], arr_3d.shape[1]), dtype=np.uint8)\n",
    "\n",
    "    for c, i in palette.items():\n",
    "        m = np.all(arr_3d == np.array(c).reshape(1, 1, 3), axis=2)\n",
    "        arr_2d[m] = i\n",
    "\n",
    "    return arr_2d"
   ]
  },
  {
   "cell_type": "code",
   "execution_count": null,
   "metadata": {
    "collapsed": true
   },
   "outputs": [],
   "source": [
    "Image.fromarray(convert_from_color_segmentation(arr))"
   ]
  },
  {
   "cell_type": "code",
   "execution_count": null,
   "metadata": {
    "collapsed": true
   },
   "outputs": [],
   "source": [
    "import os, shutil"
   ]
  },
  {
   "cell_type": "code",
   "execution_count": null,
   "metadata": {
    "collapsed": true
   },
   "outputs": [],
   "source": [
    "new_label_dir = 'rwth_kitti_semantics_dataset/labels_tf/'"
   ]
  },
  {
   "cell_type": "code",
   "execution_count": null,
   "metadata": {
    "collapsed": true
   },
   "outputs": [],
   "source": [
    "label_dir = 'rwth_kitti_semantics_dataset/labels/'\n",
    "label_files = os.listdir(label_dir)"
   ]
  },
  {
   "cell_type": "code",
   "execution_count": null,
   "metadata": {
    "collapsed": true
   },
   "outputs": [],
   "source": [
    "for l_f in tqdm(label_files):\n",
    "    arr = np.array(Image.open(label_dir + l_f))\n",
    "    arr_2d = convert_from_color_segmentation(arr)\n",
    "    Image.fromarray(arr_2d).save(new_label_dir + l_f)"
   ]
  },
  {
   "cell_type": "code",
   "execution_count": null,
   "metadata": {
    "collapsed": true
   },
   "outputs": [],
   "source": [
    "## check\n",
    "np.array(Image.open('rwth_kitti_semantics_dataset/labels_tf/00_000200.png')).shape"
   ]
  },
  {
   "cell_type": "code",
   "execution_count": null,
   "metadata": {
    "collapsed": true
   },
   "outputs": [],
   "source": [
    "## fix training/test sets"
   ]
  },
  {
   "cell_type": "code",
   "execution_count": null,
   "metadata": {
    "collapsed": true
   },
   "outputs": [],
   "source": [
    "with open('rwth_kitti_semantics_dataset/splits/train.txt', 'rb') as f:\n",
    "    trn_lst = list(f.readlines())"
   ]
  },
  {
   "cell_type": "code",
   "execution_count": null,
   "metadata": {
    "collapsed": true
   },
   "outputs": [],
   "source": [
    "with open('rwth_kitti_semantics_dataset/splits/test.txt', 'rb') as f:\n",
    "    tst_lst = list(f.readlines())"
   ]
  },
  {
   "cell_type": "code",
   "execution_count": null,
   "metadata": {
    "collapsed": true
   },
   "outputs": [],
   "source": [
    "## we want /train/file1.png /labels_tf/file1.png\n",
    "with open('rwth_kitti_semantics_dataset/splits/train_tf.txt', 'w+') as f:\n",
    "    for el in trn_lst:\n",
    "        el = el.decode('utf-8')[:-5]\n",
    "        f.write('/images/{}.png /labels_tf/{}.png\\n'.format(el, el))"
   ]
  },
  {
   "cell_type": "code",
   "execution_count": null,
   "metadata": {
    "collapsed": true
   },
   "outputs": [],
   "source": [
    "## we want /train/file1.png /labels_tf/file1.png\n",
    "with open('rwth_kitti_semantics_dataset/splits/test_tf.txt', 'w+') as f:\n",
    "    for el in tst_lst:\n",
    "        el = el.decode('utf-8')[:-5]\n",
    "        f.write('/images/{}.png /labels_tf/{}.png\\n'.format(el, el))"
   ]
  },
  {
   "cell_type": "code",
   "execution_count": null,
   "metadata": {
    "collapsed": true
   },
   "outputs": [],
   "source": [
    "#Download dataset from https://omnomnom.vision.rwth-aachen.de/data/rwth_kitti_semantics_dataset.zip\n",
    "#Convert RGB label images using masks_kitti.ipynb\n",
    "#Download deeplab_resnet.ckpt\n",
    "#Change fine_tune.py configuration (example is given)\n",
    "#Change https://github.com/DrSleep/tensorflow-deeplab-resnet/blob/master/deeplab_resnet/image_reader.py#L115 to decode_png\n",
    "#Run fine_tune.py"
   ]
  }
 ],
 "metadata": {
  "kernelspec": {
   "display_name": "Python [default]",
   "language": "python",
   "name": "python3"
  },
  "language_info": {
   "codemirror_mode": {
    "name": "ipython",
    "version": 3
   },
   "file_extension": ".py",
   "mimetype": "text/x-python",
   "name": "python",
   "nbconvert_exporter": "python",
   "pygments_lexer": "ipython3",
   "version": "3.5.2"
  }
 },
 "nbformat": 4,
 "nbformat_minor": 1
}
